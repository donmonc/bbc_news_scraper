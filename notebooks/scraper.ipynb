{
 "cells": [
  {
   "cell_type": "code",
   "execution_count": 17,
   "metadata": {},
   "outputs": [],
   "source": [
    "from bs4 import BeautifulSoup\n",
    "import requests\n",
    "import itertools\n",
    "import time"
   ]
  },
  {
   "cell_type": "code",
   "execution_count": 18,
   "metadata": {},
   "outputs": [],
   "source": [
    "def get_page_soup(url:str) -> BeautifulSoup:\n",
    "    \"\"\"\n",
    "    Makes a request to a url and creates a beautiful soup oject from the response html\n",
    "\n",
    "    input:\n",
    "        :param url: input page url\n",
    "    returns:\n",
    "        - page_soup: beautiful soup oject from the response html\n",
    "    \"\"\"\n",
    "\n",
    "    response = requests.get(url)\n",
    "    page_html = response.text\n",
    "    page_soup = BeautifulSoup(page_html, \"html.parser\")\n",
    "\n",
    "    return page_soup"
   ]
  },
  {
   "cell_type": "code",
   "execution_count": 63,
   "metadata": {},
   "outputs": [],
   "source": [
    "def _is_valid_url_sw(href: str) -> bool:\n",
    "    href = href.replace(\"https://www.bbc.com\", \"\")\n",
    "     \n",
    "    if href.startswith(\"/swahili/articles/\"):\n",
    "        return True\n",
    "    elif href.startswith(\"/swahili/habari-\") or href.startswith(\"/swahili/\"):\n",
    "        if not (\n",
    "            href.startswith(\"/swahili/topics\")\n",
    "            or href.startswith(\"/swahili/michezo\")\n",
    "            or href.startswith(\"/swahili/bbc_swahili_radio\")\n",
    "            or href.startswith(\"/swahili/dira-tv\")\n",
    "            or href.startswith('/swahili/media')\n",
    "            or href.startswith(\"/swahili/taasisi\")\n",
    "        ):\n",
    "            if href[-1].isdigit():\n",
    "                return True\n",
    "    else:\n",
    "        return False"
   ]
  },
  {
   "cell_type": "code",
   "execution_count": 70,
   "metadata": {},
   "outputs": [],
   "source": [
    "def get_valid_urls(category_page: BeautifulSoup):\n",
    "    \"\"\"\n",
    "    Gets all valid urls from a category page\n",
    "\n",
    "    input:\n",
    "        :param: url: category_page\n",
    "    returns:\n",
    "        - valid_urls: list of all valid article urls on a given category page\n",
    "    \"\"\"\n",
    "    all_urls = category_page.findAll(\"a\")\n",
    "    valid_article_urls = []\n",
    "    for url in all_urls:\n",
    "        href: str = url.get(\"href\")\n",
    "        # from a look at BBC pidgin's urls, they always begin with the following strings. \n",
    "        # so we obtain valid article urls using these strings\n",
    "        # if ((href.startswith(\"/swahili/habari-\") or href.startswith(\"/swahili/\")) \\\n",
    "        #     and href[-1].isdigit() and not (href.startswith(\"/swahili/topics\") or href.startswith(\"/swahili/michezo\"))) | href.startswith(\"/swahili/articles/\"):\n",
    "        if _is_valid_url_sw(href):\n",
    "            story_url = \"https://www.bbc.com\" + href if href.startswith(\"/swahili\") else href\n",
    "            valid_article_urls.append(story_url)\n",
    "\n",
    "    return list(set(valid_article_urls))"
   ]
  },
  {
   "cell_type": "code",
   "execution_count": 22,
   "metadata": {},
   "outputs": [],
   "source": [
    "page_soup = get_page_soup(\"https://www.bbc.com/swahili\")\n",
    "article_urls = get_valid_urls(page_soup)"
   ]
  },
  {
   "cell_type": "code",
   "execution_count": 60,
   "metadata": {},
   "outputs": [],
   "source": [
    "def get_topics(homepage: str, known_topic_urls):\n",
    "    \"\"\"\n",
    "    Meant to be used with the homepage to recover all sub-topics available\n",
    "    \"\"\"\n",
    "    page_soup = get_page_soup(homepage)\n",
    "    article_urls = get_valid_urls(page_soup)\n",
    "    topics = {}\n",
    " \n",
    "    for url in article_urls:\n",
    "        url_soup = get_page_soup(url)\n",
    "        topic_elements = url_soup.find_all(\"li\", attrs={\"class\": \"bbc-ekyvwt e2o6ii40\"}) or []\n",
    "        for topic in topic_elements:\n",
    "            topic_url = \"https://www.bbc.com\" + topic.find(\"a\").get(\"href\")\n",
    "            if topic_url not in known_topic_urls:\n",
    "                topic_name = \"_\".join(topic.text.split()).upper()\n",
    "                topics[topic_name] = topic_url\n",
    "    return topics"
   ]
  },
  {
   "cell_type": "code",
   "execution_count": null,
   "metadata": {},
   "outputs": [],
   "source": []
  },
  {
   "cell_type": "code",
   "execution_count": 25,
   "metadata": {},
   "outputs": [],
   "source": [
    "categories = {\n",
    "    \"michezo\": 'https://www.bbc.com/swahili/topics/ckdxndddjkxt',\n",
    "    \"video\": \"https://www.bbc.com/swahili/media/video\",\n",
    "    \"dunia\": \"https://www.bbc.com/swahili/michezo-63553971\"\n",
    "}"
   ]
  },
  {
   "cell_type": "code",
   "execution_count": 26,
   "metadata": {},
   "outputs": [],
   "source": [
    "other_categories = get_topics(\"https://www.bbc.com/swahili/\", list(categories.values()))\n",
    "categories.update(other_categories)"
   ]
  },
  {
   "cell_type": "code",
   "execution_count": 34,
   "metadata": {},
   "outputs": [],
   "source": [
    "page_soup = get_page_soup(\"https://www.bbc.com/swahili/articles/cmm68ln0veyo\")"
   ]
  },
  {
   "cell_type": "code",
   "execution_count": 35,
   "metadata": {},
   "outputs": [
    {
     "data": {
      "text/plain": [
       "[]"
      ]
     },
     "execution_count": 35,
     "metadata": {},
     "output_type": "execute_result"
    }
   ],
   "source": [
    "page_soup.find_all(\"ul\", attrs={\"class\": \"bbc-f8df6t e19602dz4\"})"
   ]
  },
  {
   "cell_type": "code",
   "execution_count": 40,
   "metadata": {},
   "outputs": [],
   "source": [
    "def get_page_count(soup: BeautifulSoup) -> int:\n",
    "    count = 1\n",
    "    ul: BeautifulSoup = soup.find_all(\"ul\", attrs={\"class\": \"bbc-f8df6t e19602dz4\"})\n",
    "    \n",
    "    if ul:\n",
    "        count = int(ul[0].find_all(\"li\")[-1].text)\n",
    "    \n",
    "    return count"
   ]
  },
  {
   "cell_type": "code",
   "execution_count": 71,
   "metadata": {},
   "outputs": [],
   "source": [
    "def get_urls(\n",
    "    category_url:str,\n",
    "    time_delay:bool, \n",
    "    articles_per_category = -1\n",
    "    ):\n",
    "    \"\"\"\n",
    "    Obtains all the article urls from the category url it takes in\n",
    "\n",
    "    input:\n",
    "        :param categpry_url: category url\n",
    "        :param category: category name\n",
    "    returns:\n",
    "        - category_urls: list of all valid article urls on all the category pages\n",
    "    \"\"\"\n",
    "    page_soup = get_page_soup(category_url)\n",
    "    category_urls = get_valid_urls(page_soup)\n",
    "    # logging.info(f\"{len(category_urls)} urls in page 1 gotten for {category}\")\n",
    "\n",
    "    if articles_per_category > 0 and len(category_urls) >= articles_per_category:\n",
    "        return category_urls\n",
    "    \n",
    "    # get total number of pages for given category\n",
    "    # article_count_span = page_soup.find_all(\n",
    "    #     \"a\", attrs={\"class\": CONFIG[\"ARTICLE_COUNT_SPAN\"]}\n",
    "    #     )\n",
    "    # # if there are multiple pages, get valid urls from each page\n",
    "    # else just get the articles on the first page\n",
    "    total_page_count = get_page_count(page_soup)\n",
    "    print(total_page_count)\n",
    "    # if article_count_span:\n",
    "    #     total_page_count = int(article_count_span[0].text)\n",
    "        # logging.info(f\"{total_page_count} pages found for {category}\")\n",
    "    # if total_page_count > 1:\n",
    "    for count in range(1, total_page_count):\n",
    "        page_soup = get_page_soup(category_url + f\"?page={count+1}\")\n",
    "        page_urls = get_valid_urls(page_soup)\n",
    "        # logging.info(f\"{len(page_urls)} urls in page {count+1} gotten for {category}\")\n",
    "        category_urls+=page_urls\n",
    "        \n",
    "        if articles_per_category > 0 and len(category_urls) >= articles_per_category:\n",
    "            break\n",
    "            \n",
    "        # articles_per_category -= len(page_urls)\n",
    "\n",
    "        if time_delay: \n",
    "            time.sleep(10)\n",
    "        \n",
    "    else:\n",
    "        pass\n",
    "        # logging.info(f\"Only one page found for {category}. {len(category_urls)} urls gotten\")\n",
    "\n",
    "    return category_urls"
   ]
  },
  {
   "cell_type": "code",
   "execution_count": 65,
   "metadata": {},
   "outputs": [],
   "source": [
    "page_soup = get_page_soup(\"https://www.bbc.com/swahili/topics/c890g74k92qt\")"
   ]
  },
  {
   "cell_type": "code",
   "execution_count": 48,
   "metadata": {},
   "outputs": [],
   "source": [
    "all_urls = page_soup.findAll(\"a\")"
   ]
  },
  {
   "cell_type": "code",
   "execution_count": 50,
   "metadata": {},
   "outputs": [
    {
     "data": {
      "text/plain": [
       "48"
      ]
     },
     "execution_count": 50,
     "metadata": {},
     "output_type": "execute_result"
    }
   ],
   "source": [
    "len(all_urls)"
   ]
  },
  {
   "cell_type": "code",
   "execution_count": 73,
   "metadata": {},
   "outputs": [
    {
     "name": "stdout",
     "output_type": "stream",
     "text": [
      "4\n"
     ]
    }
   ],
   "source": [
    "category_urls = get_urls(\"https://www.bbc.com/swahili/topics/c890g74k92qt\", False)"
   ]
  },
  {
   "cell_type": "code",
   "execution_count": 81,
   "metadata": {},
   "outputs": [
    {
     "data": {
      "text/plain": [
       "['https://www.bbc.com/swahili/articles/c72ejng1xdjo',\n",
       " 'https://www.bbc.com/swahili/articles/c806zg0x44go',\n",
       " 'https://www.bbc.com/swahili/articles/crgzyl9w1kyo',\n",
       " 'https://www.bbc.com/swahili/articles/c283y0xjd93o',\n",
       " 'https://www.bbc.com/swahili/articles/c0dr7lr8jm2o',\n",
       " 'https://www.bbc.com/swahili/articles/cqq2n1yr7l1o',\n",
       " 'https://www.bbc.com/swahili/articles/ce70knk74yeo',\n",
       " 'https://www.bbc.com/swahili/articles/c518m95rdj5o',\n",
       " 'https://www.bbc.com/swahili/articles/cq5e7q3qlv5o',\n",
       " 'https://www.bbc.com/swahili/articles/cw0wryr0wg1o',\n",
       " 'https://www.bbc.com/swahili/articles/cq5ev1q8381o',\n",
       " 'https://www.bbc.com/swahili/articles/c0vq0yq44r1o',\n",
       " 'https://www.bbc.com/swahili/articles/c8v1nz7y491o',\n",
       " 'https://www.bbc.com/swahili/articles/c14ryydz7g2o',\n",
       " 'https://www.bbc.com/swahili/articles/cw4n2dej1k2o',\n",
       " 'https://www.bbc.com/swahili/articles/cp3yle1yyvdo',\n",
       " 'https://www.bbc.com/swahili/articles/cn0ypnq942yo',\n",
       " 'https://www.bbc.com/swahili/articles/c9xp2r9e57eo',\n",
       " 'https://www.bbc.com/swahili/articles/c10d39d85zqo',\n",
       " 'https://www.bbc.com/swahili/articles/cpreg73e32jo',\n",
       " 'https://www.bbc.com/swahili/articles/c03736nl74yo',\n",
       " 'https://www.bbc.com/swahili/articles/c518nx5z271o',\n",
       " 'https://www.bbc.com/swahili/articles/cjjqxqpqyd0o',\n",
       " 'https://www.bbc.com/swahili/articles/cn41n5v7zdyo',\n",
       " 'https://www.bbc.com/swahili/articles/c51831v5zlko',\n",
       " 'https://www.bbc.com/swahili/articles/cz58v5pm10no',\n",
       " 'https://www.bbc.com/swahili/articles/c3g5vkg11zvo',\n",
       " 'https://www.bbc.com/swahili/articles/c88141p23p3o',\n",
       " 'https://www.bbc.com/swahili/articles/c4nk4yzpnkeo',\n",
       " 'https://www.bbc.com/swahili/articles/cv2vqp4ex72o',\n",
       " 'https://www.bbc.com/swahili/articles/cl5vjn199nlo',\n",
       " 'https://www.bbc.com/swahili/articles/c80g949ww0xo',\n",
       " 'https://www.bbc.com/swahili/articles/cd12gx961w9o',\n",
       " 'https://www.bbc.com/swahili/articles/c4nr8de6pyeo',\n",
       " 'https://www.bbc.com/swahili/live/habari-63766141',\n",
       " 'https://www.bbc.com/swahili/articles/cl5v9e93dx2o',\n",
       " 'https://www.bbc.com/swahili/articles/cw0wpq17lzpo',\n",
       " 'https://www.bbc.com/swahili/articles/cx078glznkxo',\n",
       " 'https://www.bbc.com/swahili/articles/cjkjrz0vg66o',\n",
       " 'https://www.bbc.com/swahili/articles/cp65jgj530ro',\n",
       " 'https://www.bbc.com/swahili/articles/cd1kj0rg8p8o',\n",
       " 'https://www.bbc.com/swahili/live/habari-63752506',\n",
       " 'https://www.bbc.com/swahili/articles/cql5e02qx5zo',\n",
       " 'https://www.bbc.com/swahili/articles/cz9y2627y5ko',\n",
       " 'https://www.bbc.com/swahili/articles/cmm68ln0veyo',\n",
       " 'https://www.bbc.com/swahili/articles/cz7ly8n2k1yo',\n",
       " 'https://www.bbc.com/swahili/articles/crgz0e743m7o',\n",
       " 'https://www.bbc.com/swahili/articles/czr4gw043y0o',\n",
       " 'https://www.bbc.com/swahili/articles/c7201j77zmeo',\n",
       " 'https://www.bbc.com/swahili/articles/cekv0rv1y4vo',\n",
       " 'https://www.bbc.com/swahili/articles/c72nwyylreyo',\n",
       " 'https://www.bbc.com/swahili/articles/c1w6npv44vjo',\n",
       " 'https://www.bbc.com/swahili/articles/cl5vnqkneqzo',\n",
       " 'https://www.bbc.com/swahili/articles/c6p9l36w7dqo',\n",
       " 'https://www.bbc.com/swahili/articles/cw0wgk7g5vdo',\n",
       " 'https://www.bbc.com/swahili/articles/cjm31wenm1go',\n",
       " 'https://www.bbc.com/swahili/articles/cmjy0r4kzxxo',\n",
       " 'https://www.bbc.com/swahili/articles/cxerl1zjnzno',\n",
       " 'https://www.bbc.com/swahili/articles/czq3we916e4o',\n",
       " 'https://www.bbc.com/swahili/articles/c283x3zmwedo',\n",
       " 'https://www.bbc.com/swahili/articles/cq5ergeddw5o',\n",
       " 'https://www.bbc.com/swahili/articles/cqq2d25nk0ro',\n",
       " 'https://www.bbc.com/swahili/articles/c8v1pr88glpo',\n",
       " 'https://www.bbc.com/swahili/articles/cy9k3023d1xo',\n",
       " 'https://www.bbc.com/swahili/articles/ckm4xn0z60eo',\n",
       " 'https://www.bbc.com/swahili/articles/crg8y7g35vvo',\n",
       " 'https://www.bbc.com/swahili/articles/cmm654vgj0zo',\n",
       " 'https://www.bbc.com/swahili/articles/clj3z21dn25o',\n",
       " 'https://www.bbc.com/swahili/articles/cpeq4nyvgg5o',\n",
       " 'https://www.bbc.com/swahili/articles/c165p0r0220o',\n",
       " 'https://www.bbc.com/swahili/articles/cjr5j42rep0o',\n",
       " 'https://www.bbc.com/swahili/articles/cxw0wd4g7y8o',\n",
       " 'https://www.bbc.com/swahili/articles/c72n2d7zyn9o',\n",
       " 'https://www.bbc.com/swahili/61780065',\n",
       " 'https://www.bbc.com/swahili/articles/cgl2x99nd8ro',\n",
       " 'https://www.bbc.com/swahili/articles/c0jnj4k3g0no',\n",
       " 'https://www.bbc.com/swahili/articles/cd1291kgdl5o',\n",
       " 'https://www.bbc.com/swahili/articles/cg380wm2njko']"
      ]
     },
     "execution_count": 81,
     "metadata": {},
     "output_type": "execute_result"
    }
   ],
   "source": [
    "category_urls"
   ]
  },
  {
   "cell_type": "code",
   "execution_count": 45,
   "metadata": {},
   "outputs": [],
   "source": [
    "def get_article_data(article_url:str):\n",
    "    \"\"\"\n",
    "    Obtains paragraphs texts and headlines input url article\n",
    "\n",
    "    input:\n",
    "        :param article_url: category_page\n",
    "    returns:\n",
    "        - headline: headline of url article \n",
    "        - story_text: text of url article\n",
    "        - article_url: input article url\n",
    "    \"\"\"\n",
    "    page_soup = get_page_soup(article_url)\n",
    "\n",
    "    for cls_name in [\"bbc-13tuc7f e1p3vdyi0\", \"bbc-csfh25 e1p3vdyi0\"]:\n",
    "        headline = page_soup.find(\n",
    "            \"h1\", attrs={\"class\": cls_name}\n",
    "            )\n",
    "        if headline:\n",
    "            break\n",
    "    # by inspection, if the headline is not in the class above, it should be in the one below\n",
    "    # TODO: Investigate if this is still necessary\n",
    "    if not headline:\n",
    "        for cls_name in [\"ewk8wmc0 bbc-1xtm48o eglt09e1\", \"ewk8wmc0 bbc-12j4rku eglt09e1\"]:\n",
    "            headline = page_soup.find(\n",
    "                \"strong\", attrs={\"class\": cls_name}\n",
    "                )\n",
    "            if headline:\n",
    "                break\n",
    "    \n",
    "    if headline:\n",
    "        headline = headline.text.strip()\n",
    "    \n",
    "    story_text = \" \"\n",
    "    story_div = page_soup.find_all(\n",
    "        \"div\", attrs={\"class\": \"bbc-19j92fr ebmt73l0\"}\n",
    "        )\n",
    "    if story_div:\n",
    "        all_paragraphs = [div.findAll(\"p\", recursive=False) for div in story_div]\n",
    "        all_paragraphs = list(itertools.chain(*all_paragraphs))\n",
    "        story_text = [p.text.strip().replace(\"\\r\", \"\").replace(\"\\n\", \"\\\\n\") for p in all_paragraphs]\n",
    "        # story_text = story_text.join(str(paragraph).strip().replace(\"\\n\", \"\\\\n\") for paragraph in all_paragraphs)\n",
    "        # story_text = BeautifulSoup(story_text, \"html.parser\") #.get_text(separator=\" \", strip=True)\n",
    "        # story_text = \" \".join(story_text.stripped_strings)\n",
    "        story_text = \" \".join(story_text)\n",
    "    story_text = story_text if not story_text == \" \" else None\n",
    "\n",
    "    return (headline, story_text, article_url)"
   ]
  },
  {
   "cell_type": "code",
   "execution_count": 46,
   "metadata": {},
   "outputs": [
    {
     "data": {
      "text/plain": [
       "('ድሕሪ 75 ዓመት ዝተራኸቡ ክልተ ኣሕዋት',\n",
       " 'መሓመድን ሓቢብን ኣብ 1947 [ኣቆጻጽራ ፈረንጂ] ህንዲ ኣብ ክልተ ምስተመቐለት ሓዲኦም ኣብ ህንዲ ተሪፎም፤ ሓዲኦም ድማ ናብ ፓኪስታን ከይዶም። እዞም ክልተ ኣሕዋት ንመጀመርታ ግዜ ድሕሪ ናይ 75 ዓመታት ጻኒሒት ተራኺቦም።',\n",
       " 'https://www.bbc.com/tigrinya/news-60403111')"
      ]
     },
     "execution_count": 46,
     "metadata": {},
     "output_type": "execute_result"
    }
   ],
   "source": [
    "get_article_data(\"https://www.bbc.com/tigrinya/news-60403111\")"
   ]
  },
  {
   "cell_type": "code",
   "execution_count": 25,
   "metadata": {},
   "outputs": [],
   "source": [
    "h, t, u = _"
   ]
  },
  {
   "cell_type": "code",
   "execution_count": 26,
   "metadata": {},
   "outputs": [
    {
     "name": "stdout",
     "output_type": "stream",
     "text": [
      "Yara rukunin mutane ne masu rauni, kuma akwai wasu cuttuka da suka fi kama su a lokacin hunturu, wadanda ya kamata iyaye mata su kiyaye. Cututtuka sun hada da wadanda suka shafi hanyoyin shakar iska da cutar sanyi ta nimoniya da mura da tari. Haka kuma yaran da ke da cutar asma da masu cutar sikila yanayinsu na kara tsananta a wannan lokaci. Shafin intanet na wikipedia ya bayyana  hunturu da cewa, lokaci ne na iska da kura wanda ke kadawa daga Sahara ya bi ta yammacin Afrika, zuwa gabar tekun Guinea. Wannan yanayi yana kamawa ne daga karshen watan Nuwamba zuwa tsakiyar watan Maris. Sannan a lokaci ne ake sanyi a mafiya yawan wurare da ke yankin. \\nHaka zalika a wannan lokaci ne kuma ake hazo. Kuma akan kwashe tsawon kwanaki ba a ga rana ba.\n"
     ]
    }
   ],
   "source": [
    "print(t)"
   ]
  },
  {
   "cell_type": "code",
   "execution_count": 1,
   "metadata": {},
   "outputs": [],
   "source": [
    "import pandas as pd"
   ]
  },
  {
   "cell_type": "code",
   "execution_count": 35,
   "metadata": {},
   "outputs": [],
   "source": [
    "data = pd.read_csv(\"../data/igbo_corpus.tsv\", sep=\"\\t\")"
   ]
  },
  {
   "cell_type": "code",
   "execution_count": 36,
   "metadata": {},
   "outputs": [
    {
     "data": {
      "text/html": [
       "<div>\n",
       "<style scoped>\n",
       "    .dataframe tbody tr th:only-of-type {\n",
       "        vertical-align: middle;\n",
       "    }\n",
       "\n",
       "    .dataframe tbody tr th {\n",
       "        vertical-align: top;\n",
       "    }\n",
       "\n",
       "    .dataframe thead th {\n",
       "        text-align: right;\n",
       "    }\n",
       "</style>\n",
       "<table border=\"1\" class=\"dataframe\">\n",
       "  <thead>\n",
       "    <tr style=\"text-align: right;\">\n",
       "      <th></th>\n",
       "      <th>headline</th>\n",
       "      <th>text</th>\n",
       "      <th>category</th>\n",
       "      <th>url</th>\n",
       "    </tr>\n",
       "  </thead>\n",
       "  <tbody>\n",
       "    <tr>\n",
       "      <th>0</th>\n",
       "      <td>ABSUTH: Ngalaba NLC azaghachila gọọmentị Abia ...</td>\n",
       "      <td>Otu jikọrọ ndị ọrụ n'Abia steeti azaghachila g...</td>\n",
       "      <td>Abia Steeti</td>\n",
       "      <td>https://www.bbc.com/igbo/articles/czkdkdpjyzvo</td>\n",
       "    </tr>\n",
       "    <tr>\n",
       "      <th>1</th>\n",
       "      <td>Igbo Independence: Ụfọdụ agha nnwereonwe ndị I...</td>\n",
       "      <td>Site na mgbe mgbo, ndị Igbo bụ ndị a ma ama na...</td>\n",
       "      <td>Abia Steeti</td>\n",
       "      <td>https://www.bbc.com/igbo/articles/ce7y9l7r53eo</td>\n",
       "    </tr>\n",
       "    <tr>\n",
       "      <th>2</th>\n",
       "      <td>Obi Onitsha agaghị izute Atiku n'obi gọọmentị,...</td>\n",
       "      <td>Njem achụmnta vootu nakwa ileta Gọvanọ Anambra...</td>\n",
       "      <td>Naijiria</td>\n",
       "      <td>https://www.bbc.com/igbo/articles/cy70z45r0g7o</td>\n",
       "    </tr>\n",
       "    <tr>\n",
       "      <th>3</th>\n",
       "      <td>Ihe ọhụrụ Nnamdi Kanu, Mike Ozekhome na Ifeany...</td>\n",
       "      <td>O﻿nyeisi otu 'Indigenous People of Biafra' (Ip...</td>\n",
       "      <td>Naijiria</td>\n",
       "      <td>https://www.bbc.com/igbo/articles/cpd2jz0zm2lo</td>\n",
       "    </tr>\n",
       "    <tr>\n",
       "      <th>4</th>\n",
       "      <td>Ọgba mbọ: 'Akwụsịrị m ezigbo ọrụ m tinye isi k...</td>\n",
       "      <td>Ọtụtụ ndị mmadụ na-ebe na ọrụ adịghị n'obodo m...</td>\n",
       "      <td>Azụmahịa nke kọmpụta</td>\n",
       "      <td>https://www.bbc.com/igbo/afirika-53144473</td>\n",
       "    </tr>\n",
       "  </tbody>\n",
       "</table>\n",
       "</div>"
      ],
      "text/plain": [
       "                                            headline  \\\n",
       "0  ABSUTH: Ngalaba NLC azaghachila gọọmentị Abia ...   \n",
       "1  Igbo Independence: Ụfọdụ agha nnwereonwe ndị I...   \n",
       "2  Obi Onitsha agaghị izute Atiku n'obi gọọmentị,...   \n",
       "3  Ihe ọhụrụ Nnamdi Kanu, Mike Ozekhome na Ifeany...   \n",
       "4  Ọgba mbọ: 'Akwụsịrị m ezigbo ọrụ m tinye isi k...   \n",
       "\n",
       "                                                text              category  \\\n",
       "0  Otu jikọrọ ndị ọrụ n'Abia steeti azaghachila g...           Abia Steeti   \n",
       "1  Site na mgbe mgbo, ndị Igbo bụ ndị a ma ama na...           Abia Steeti   \n",
       "2  Njem achụmnta vootu nakwa ileta Gọvanọ Anambra...              Naijiria   \n",
       "3  O﻿nyeisi otu 'Indigenous People of Biafra' (Ip...              Naijiria   \n",
       "4  Ọtụtụ ndị mmadụ na-ebe na ọrụ adịghị n'obodo m...  Azụmahịa nke kọmpụta   \n",
       "\n",
       "                                              url  \n",
       "0  https://www.bbc.com/igbo/articles/czkdkdpjyzvo  \n",
       "1  https://www.bbc.com/igbo/articles/ce7y9l7r53eo  \n",
       "2  https://www.bbc.com/igbo/articles/cy70z45r0g7o  \n",
       "3  https://www.bbc.com/igbo/articles/cpd2jz0zm2lo  \n",
       "4       https://www.bbc.com/igbo/afirika-53144473  "
      ]
     },
     "execution_count": 36,
     "metadata": {},
     "output_type": "execute_result"
    }
   ],
   "source": [
    "data.head()"
   ]
  },
  {
   "cell_type": "code",
   "execution_count": 37,
   "metadata": {},
   "outputs": [
    {
     "data": {
      "text/plain": [
       "(116, 4)"
      ]
     },
     "execution_count": 37,
     "metadata": {},
     "output_type": "execute_result"
    }
   ],
   "source": [
    "data.shape"
   ]
  },
  {
   "cell_type": "code",
   "execution_count": 38,
   "metadata": {},
   "outputs": [
    {
     "data": {
      "text/plain": [
       "headline    1\n",
       "text        0\n",
       "category    0\n",
       "url         0\n",
       "dtype: int64"
      ]
     },
     "execution_count": 38,
     "metadata": {},
     "output_type": "execute_result"
    }
   ],
   "source": [
    "data.isnull().sum()"
   ]
  },
  {
   "cell_type": "code",
   "execution_count": 39,
   "metadata": {},
   "outputs": [
    {
     "data": {
      "text/html": [
       "<div>\n",
       "<style scoped>\n",
       "    .dataframe tbody tr th:only-of-type {\n",
       "        vertical-align: middle;\n",
       "    }\n",
       "\n",
       "    .dataframe tbody tr th {\n",
       "        vertical-align: top;\n",
       "    }\n",
       "\n",
       "    .dataframe thead th {\n",
       "        text-align: right;\n",
       "    }\n",
       "</style>\n",
       "<table border=\"1\" class=\"dataframe\">\n",
       "  <thead>\n",
       "    <tr style=\"text-align: right;\">\n",
       "      <th></th>\n",
       "      <th>headline</th>\n",
       "      <th>text</th>\n",
       "      <th>category</th>\n",
       "      <th>url</th>\n",
       "    </tr>\n",
       "  </thead>\n",
       "  <tbody>\n",
       "    <tr>\n",
       "      <th>24</th>\n",
       "      <td>NaN</td>\n",
       "      <td>Gọọmentị Abia steeti ekwuola na ihe ji ha iwep...</td>\n",
       "      <td>Ọmụmụ na mmụta</td>\n",
       "      <td>https://www.bbc.com/igbo/articles/czqpww4j1leo</td>\n",
       "    </tr>\n",
       "  </tbody>\n",
       "</table>\n",
       "</div>"
      ],
      "text/plain": [
       "   headline                                               text  \\\n",
       "24      NaN  Gọọmentị Abia steeti ekwuola na ihe ji ha iwep...   \n",
       "\n",
       "          category                                             url  \n",
       "24  Ọmụmụ na mmụta  https://www.bbc.com/igbo/articles/czqpww4j1leo  "
      ]
     },
     "execution_count": 39,
     "metadata": {},
     "output_type": "execute_result"
    }
   ],
   "source": [
    "data[data.headline.isnull()]"
   ]
  },
  {
   "cell_type": "code",
   "execution_count": null,
   "metadata": {},
   "outputs": [],
   "source": []
  }
 ],
 "metadata": {
  "kernelspec": {
   "display_name": "env",
   "language": "python",
   "name": "python3"
  },
  "language_info": {
   "codemirror_mode": {
    "name": "ipython",
    "version": 3
   },
   "file_extension": ".py",
   "mimetype": "text/x-python",
   "name": "python",
   "nbconvert_exporter": "python",
   "pygments_lexer": "ipython3",
   "version": "3.8.10"
  },
  "orig_nbformat": 4,
  "vscode": {
   "interpreter": {
    "hash": "a06fb409cd8accde12eca308b829b6bc7f6b27e9b3949911149ca64fef5bbc1f"
   }
  }
 },
 "nbformat": 4,
 "nbformat_minor": 2
}
